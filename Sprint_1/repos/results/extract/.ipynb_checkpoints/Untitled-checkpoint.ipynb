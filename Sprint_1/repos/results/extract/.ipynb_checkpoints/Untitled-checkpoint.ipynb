{
 "cells": [
  {
   "cell_type": "code",
   "execution_count": 12,
   "id": "5405ead4",
   "metadata": {},
   "outputs": [],
   "source": [
    "def read_input():\n",
    "    with open('input.txt') as f:\n",
    "        return f.readlines()"
   ]
  },
  {
   "cell_type": "code",
   "execution_count": 25,
   "id": "92b038cf",
   "metadata": {},
   "outputs": [
    {
     "name": "stdout",
     "output_type": "stream",
     "text": [
      "  Up (204.0%)\n",
      "  Up (307.0%)\n",
      "  Up (269.8%)\n",
      "  No change\n",
      "  No change\n",
      "  No change\n"
     ]
    }
   ],
   "source": [
    "lines = read_input()\n",
    "for line in lines:\n",
    "    print( line.split(\"->\",1)[1].replace('\\n','') )"
   ]
  },
  {
   "cell_type": "code",
   "execution_count": 28,
   "id": "7827ce1f",
   "metadata": {},
   "outputs": [
    {
     "name": "stdout",
     "output_type": "stream",
     "text": [
      "66.7\n",
      "58.3\n",
      "41.7\n",
      "8.3\n",
      "8.3\n",
      "8.3\n"
     ]
    }
   ],
   "source": [
    "lines = read_input()\n",
    "for line in lines:\n",
    "    print( line.split(\"= \",1)[1].replace('\\n','') )"
   ]
  },
  {
   "cell_type": "code",
   "execution_count": null,
   "id": "24617cea",
   "metadata": {},
   "outputs": [],
   "source": []
  },
  {
   "cell_type": "code",
   "execution_count": null,
   "id": "0ac774f2",
   "metadata": {},
   "outputs": [],
   "source": []
  }
 ],
 "metadata": {
  "kernelspec": {
   "display_name": "Python 3",
   "language": "python",
   "name": "python3"
  },
  "language_info": {
   "codemirror_mode": {
    "name": "ipython",
    "version": 3
   },
   "file_extension": ".py",
   "mimetype": "text/x-python",
   "name": "python",
   "nbconvert_exporter": "python",
   "pygments_lexer": "ipython3",
   "version": "3.8.8"
  }
 },
 "nbformat": 4,
 "nbformat_minor": 5
}
