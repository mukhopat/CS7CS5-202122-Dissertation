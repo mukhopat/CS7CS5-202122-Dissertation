{
 "cells": [
  {
   "cell_type": "code",
   "execution_count": 1,
   "id": "GzUhEDJlnBQf",
   "metadata": {
    "colab": {
     "base_uri": "https://localhost:8080/",
     "height": 424
    },
    "executionInfo": {
     "elapsed": 336,
     "status": "ok",
     "timestamp": 1657817656461,
     "user": {
      "displayName": "Tapabrata Mukhopadhyay",
      "userId": "10787340416214308199"
     },
     "user_tz": -60
    },
    "id": "GzUhEDJlnBQf",
    "outputId": "9d379157-8954-4c1a-942d-e0f8c79cc59e"
   },
   "outputs": [
    {
     "data": {
      "text/html": [
       "<div>\n",
       "<style scoped>\n",
       "    .dataframe tbody tr th:only-of-type {\n",
       "        vertical-align: middle;\n",
       "    }\n",
       "\n",
       "    .dataframe tbody tr th {\n",
       "        vertical-align: top;\n",
       "    }\n",
       "\n",
       "    .dataframe thead th {\n",
       "        text-align: right;\n",
       "    }\n",
       "</style>\n",
       "<table border=\"1\" class=\"dataframe\">\n",
       "  <thead>\n",
       "    <tr style=\"text-align: right;\">\n",
       "      <th></th>\n",
       "      <th>date</th>\n",
       "      <th>commit_count</th>\n",
       "    </tr>\n",
       "  </thead>\n",
       "  <tbody>\n",
       "    <tr>\n",
       "      <th>0</th>\n",
       "      <td>2010-01-01</td>\n",
       "      <td>402487</td>\n",
       "    </tr>\n",
       "    <tr>\n",
       "      <th>1</th>\n",
       "      <td>2010-01-02</td>\n",
       "      <td>646891</td>\n",
       "    </tr>\n",
       "    <tr>\n",
       "      <th>2</th>\n",
       "      <td>2010-01-03</td>\n",
       "      <td>282974</td>\n",
       "    </tr>\n",
       "    <tr>\n",
       "      <th>3</th>\n",
       "      <td>2010-01-04</td>\n",
       "      <td>2391253</td>\n",
       "    </tr>\n",
       "    <tr>\n",
       "      <th>4</th>\n",
       "      <td>2010-01-05</td>\n",
       "      <td>1959631</td>\n",
       "    </tr>\n",
       "    <tr>\n",
       "      <th>...</th>\n",
       "      <td>...</td>\n",
       "      <td>...</td>\n",
       "    </tr>\n",
       "    <tr>\n",
       "      <th>4378</th>\n",
       "      <td>2021-12-27</td>\n",
       "      <td>1347898</td>\n",
       "    </tr>\n",
       "    <tr>\n",
       "      <th>4379</th>\n",
       "      <td>2021-12-28</td>\n",
       "      <td>1462890</td>\n",
       "    </tr>\n",
       "    <tr>\n",
       "      <th>4380</th>\n",
       "      <td>2021-12-29</td>\n",
       "      <td>1452643</td>\n",
       "    </tr>\n",
       "    <tr>\n",
       "      <th>4381</th>\n",
       "      <td>2021-12-30</td>\n",
       "      <td>1394772</td>\n",
       "    </tr>\n",
       "    <tr>\n",
       "      <th>4382</th>\n",
       "      <td>2021-12-31</td>\n",
       "      <td>1189123</td>\n",
       "    </tr>\n",
       "  </tbody>\n",
       "</table>\n",
       "<p>4383 rows × 2 columns</p>\n",
       "</div>"
      ],
      "text/plain": [
       "            date  commit_count\n",
       "0     2010-01-01        402487\n",
       "1     2010-01-02        646891\n",
       "2     2010-01-03        282974\n",
       "3     2010-01-04       2391253\n",
       "4     2010-01-05       1959631\n",
       "...          ...           ...\n",
       "4378  2021-12-27       1347898\n",
       "4379  2021-12-28       1462890\n",
       "4380  2021-12-29       1452643\n",
       "4381  2021-12-30       1394772\n",
       "4382  2021-12-31       1189123\n",
       "\n",
       "[4383 rows x 2 columns]"
      ]
     },
     "execution_count": 1,
     "metadata": {},
     "output_type": "execute_result"
    }
   ],
   "source": [
    "import pandas as pd\n",
    "import numpy as np\n",
    "import matplotlib.pyplot as plt\n",
    "\n",
    "df = temp_df = pd.DataFrame()\n",
    "\n",
    "for year in range(2010, 2022):\n",
    "  \n",
    "  dataset_filename = f'dataset/commit_data_{year}.csv'\n",
    "  \n",
    "  try:\n",
    "    temp_df = pd.read_csv(dataset_filename)\n",
    "  except:\n",
    "    print(\"commit_data.csv does not exist.\")\n",
    "  \n",
    "  df = df.append(temp_df, ignore_index = True)\n",
    "\n",
    "df"
   ]
  },
  {
   "cell_type": "code",
   "execution_count": 2,
   "id": "3d526e82",
   "metadata": {
    "colab": {
     "base_uri": "https://localhost:8080/",
     "height": 206
    },
    "executionInfo": {
     "elapsed": 394,
     "status": "ok",
     "timestamp": 1657817756923,
     "user": {
      "displayName": "Tapabrata Mukhopadhyay",
      "userId": "10787340416214308199"
     },
     "user_tz": -60
    },
    "id": "3d526e82",
    "outputId": "e8480f79-e5ae-449b-fcd5-813cea1ac8c3"
   },
   "outputs": [
    {
     "data": {
      "text/html": [
       "<div>\n",
       "<style scoped>\n",
       "    .dataframe tbody tr th:only-of-type {\n",
       "        vertical-align: middle;\n",
       "    }\n",
       "\n",
       "    .dataframe tbody tr th {\n",
       "        vertical-align: top;\n",
       "    }\n",
       "\n",
       "    .dataframe thead th {\n",
       "        text-align: right;\n",
       "    }\n",
       "</style>\n",
       "<table border=\"1\" class=\"dataframe\">\n",
       "  <thead>\n",
       "    <tr style=\"text-align: right;\">\n",
       "      <th></th>\n",
       "      <th>date</th>\n",
       "      <th>commit_count</th>\n",
       "    </tr>\n",
       "  </thead>\n",
       "  <tbody>\n",
       "    <tr>\n",
       "      <th>0</th>\n",
       "      <td>2010-01-01</td>\n",
       "      <td>402487</td>\n",
       "    </tr>\n",
       "    <tr>\n",
       "      <th>1</th>\n",
       "      <td>2010-01-02</td>\n",
       "      <td>646891</td>\n",
       "    </tr>\n",
       "    <tr>\n",
       "      <th>2</th>\n",
       "      <td>2010-01-03</td>\n",
       "      <td>282974</td>\n",
       "    </tr>\n",
       "    <tr>\n",
       "      <th>3</th>\n",
       "      <td>2010-01-04</td>\n",
       "      <td>2391253</td>\n",
       "    </tr>\n",
       "    <tr>\n",
       "      <th>4</th>\n",
       "      <td>2010-01-05</td>\n",
       "      <td>1959631</td>\n",
       "    </tr>\n",
       "  </tbody>\n",
       "</table>\n",
       "</div>"
      ],
      "text/plain": [
       "        date  commit_count\n",
       "0 2010-01-01        402487\n",
       "1 2010-01-02        646891\n",
       "2 2010-01-03        282974\n",
       "3 2010-01-04       2391253\n",
       "4 2010-01-05       1959631"
      ]
     },
     "execution_count": 2,
     "metadata": {},
     "output_type": "execute_result"
    }
   ],
   "source": [
    "df['date'] = pd.to_datetime(df['date'])\n",
    "df.head()"
   ]
  },
  {
   "cell_type": "code",
   "execution_count": 3,
   "id": "4d2f3439",
   "metadata": {
    "executionInfo": {
     "elapsed": 349,
     "status": "ok",
     "timestamp": 1657817761093,
     "user": {
      "displayName": "Tapabrata Mukhopadhyay",
      "userId": "10787340416214308199"
     },
     "user_tz": -60
    },
    "id": "4d2f3439"
   },
   "outputs": [],
   "source": [
    "first_lockdown_dates = [\n",
    "    pd.to_datetime('2020-01-23'),    # China\n",
    "    pd.to_datetime('2020-03-17'),    # Canada and France\n",
    "    pd.to_datetime('2020-03-19'),    # USA\n",
    "    pd.to_datetime('2020-03-22'),    # Germany\n",
    "    pd.to_datetime('2020-03-23'),    # Australia and UK\n",
    "    pd.to_datetime('2020-03-24'),    # India\n",
    "    pd.to_datetime('2020-03-29'),    # Russia\n",
    "    pd.to_datetime('2020-05-05')     # Brazil    \n",
    "]\n",
    "\n",
    "# vline_colors = [ 'red', 'darkgoldenrod', 'y', 'olive', 'forestgreen', 'teal', 'dodgerblue', 'magenta' ]\n",
    "vline_colors = [ 'red', 'lightpink', 'lime', 'gold', 'darkgreen', 'aqua', 'fuchsia', 'blue' ]\n",
    "\n",
    "vline_labels = [ 'China', 'Canada and France', 'USA', 'Germany', 'Australia and UK', 'India', 'Russia', 'Brazil' ]"
   ]
  },
  {
   "cell_type": "code",
   "execution_count": 4,
   "id": "90327883",
   "metadata": {
    "colab": {
     "base_uri": "https://localhost:8080/",
     "height": 294
    },
    "executionInfo": {
     "elapsed": 999,
     "status": "ok",
     "timestamp": 1657817775433,
     "user": {
      "displayName": "Tapabrata Mukhopadhyay",
      "userId": "10787340416214308199"
     },
     "user_tz": -60
    },
    "id": "90327883",
    "outputId": "fd90c48a-2d20-4208-d3f5-9e4afdd470c0"
   },
   "outputs": [],
   "source": [
    "import matplotlib.dates as dates\n",
    "%matplotlib qt\n",
    "\n",
    "fig, ax = plt.subplots()\n",
    "ax.plot ( df['date'], df['commit_count'], color = 'gray', label = \"Commit Count\" )\n",
    "fig.autofmt_xdate()\n",
    "plt.title ( 'Date vs Commit Count before and after the Initial Covid Lockdown of Top 10 GitHub Using Nations', size = 18 )\n",
    "plt.xlabel ( 'Date', size = 15 )\n",
    "plt.ylabel ( 'Commit Count', size = 15 )\n",
    "\n",
    "for idx in range(len(first_lockdown_dates)):\n",
    "    plt.axvline( x=first_lockdown_dates[idx], color=vline_colors[idx], linestyle='dotted', linewidth=2, \n",
    "                label=f'First Covid Lockdown - {vline_labels[idx]}')\n",
    "\n",
    "# Get values for the trend line analysis\n",
    "x_dates = df['date']\n",
    "x_num = dates.date2num(x_dates)\n",
    "trend = np.polyfit(x_num, df['commit_count'], 1)\n",
    "fit = np.poly1d(trend)\n",
    "\n",
    "x_fit = np.linspace(x_num.min(), x_num.max())\n",
    "plt.plot(dates.num2date(x_fit), fit(x_fit), color='teal', linestyle='dashed', label='Trendline')\n",
    "plt.legend ( loc = 'best' )\n",
    "plt.show()"
   ]
  },
  {
   "cell_type": "code",
   "execution_count": null,
   "id": "6542ca06",
   "metadata": {
    "id": "6542ca06"
   },
   "outputs": [],
   "source": []
  }
 ],
 "metadata": {
  "colab": {
   "collapsed_sections": [],
   "name": "csv_to_plot_all.ipynb",
   "provenance": []
  },
  "kernelspec": {
   "display_name": "Python 3",
   "language": "python",
   "name": "python3"
  },
  "language_info": {
   "codemirror_mode": {
    "name": "ipython",
    "version": 3
   },
   "file_extension": ".py",
   "mimetype": "text/x-python",
   "name": "python",
   "nbconvert_exporter": "python",
   "pygments_lexer": "ipython3",
   "version": "3.8.8"
  }
 },
 "nbformat": 4,
 "nbformat_minor": 5
}
