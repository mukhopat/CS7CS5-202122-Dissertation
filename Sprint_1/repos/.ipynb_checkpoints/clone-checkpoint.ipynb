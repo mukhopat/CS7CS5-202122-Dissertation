{
 "cells": [
  {
   "cell_type": "code",
   "execution_count": 2,
   "id": "3ca897bc",
   "metadata": {},
   "outputs": [
    {
     "name": "stdout",
     "output_type": "stream",
     "text": [
      "Requirement already satisfied: gitpython in g:\\anaconda3\\lib\\site-packages (3.1.27)\n",
      "Requirement already satisfied: gitdb<5,>=4.0.1 in g:\\anaconda3\\lib\\site-packages (from gitpython) (4.0.9)\n",
      "Requirement already satisfied: smmap<6,>=3.0.1 in g:\\anaconda3\\lib\\site-packages (from gitdb<5,>=4.0.1->gitpython) (5.0.0)\n"
     ]
    }
   ],
   "source": [
    "import git\n",
    "import os\n",
    "\n",
    "# git.Repo.clone_from('https://github.com/DevDungeon/Cookbook', 'Cookbook-https')"
   ]
  },
  {
   "cell_type": "code",
   "execution_count": null,
   "id": "18810b0e",
   "metadata": {},
   "outputs": [],
   "source": []
  }
 ],
 "metadata": {
  "kernelspec": {
   "display_name": "Python 3",
   "language": "python",
   "name": "python3"
  },
  "language_info": {
   "codemirror_mode": {
    "name": "ipython",
    "version": 3
   },
   "file_extension": ".py",
   "mimetype": "text/x-python",
   "name": "python",
   "nbconvert_exporter": "python",
   "pygments_lexer": "ipython3",
   "version": "3.8.8"
  }
 },
 "nbformat": 4,
 "nbformat_minor": 5
}
