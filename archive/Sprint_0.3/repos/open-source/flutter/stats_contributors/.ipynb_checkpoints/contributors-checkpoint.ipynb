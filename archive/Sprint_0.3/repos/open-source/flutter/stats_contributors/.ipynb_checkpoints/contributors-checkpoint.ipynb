{
 "cells": [
  {
   "cell_type": "markdown",
   "id": "ce90a73c",
   "metadata": {},
   "source": [
    "# Get list of contributors as json from GitHub API"
   ]
  },
  {
   "cell_type": "code",
   "execution_count": null,
   "id": "aaecda68",
   "metadata": {},
   "outputs": [],
   "source": [
    "import requests\n",
    "import os\n",
    "import json\n",
    "\n",
    "base_url = \"https://api.github.com\"\n",
    "repo_path = \"/repos/flutter/flutter\"\n",
    "\n",
    "def get_json(api_url, output_filename):\n",
    "  \n",
    "    payload={}\n",
    "    headers = {\n",
    "#         'Accept': 'application/vnd.github+json',\n",
    "        'Authorization': os.getenv('GITHUB_AUTH_TOKEN')\n",
    "    }\n",
    "    response = requests.request(\"GET\", api_url, headers=headers, data=payload)\n",
    "    \n",
    "    try:\n",
    "        json_data = requests.get(api_url).json()\n",
    "    \n",
    "        with open(output_filename, \"w\") as json_file:\n",
    "            json.dump(json_data, json_file, indent=4)\n",
    "        \n",
    "        json_file.close()\n",
    "        return json_data\n",
    "        \n",
    "    except:\n",
    "        print(f'{json.loads(response.text)}')\n",
    "        return None"
   ]
  },
  {
   "cell_type": "code",
   "execution_count": 22,
   "id": "9b28ca2a",
   "metadata": {},
   "outputs": [],
   "source": [
    "url = base_url + repo_path + \"/stats/contributors\"\n",
    "output = url[(len(base_url) + len(repo_path) + 1):].replace('/', '_') + \"_output.json\"\n",
    "json_data = get_json(url, output)"
   ]
  },
  {
   "cell_type": "code",
   "execution_count": 24,
   "id": "79bf8c66",
   "metadata": {},
   "outputs": [
    {
     "data": {
      "text/plain": [
       "100"
      ]
     },
     "execution_count": 24,
     "metadata": {},
     "output_type": "execute_result"
    }
   ],
   "source": [
    "len(json_data)"
   ]
  },
  {
   "cell_type": "code",
   "execution_count": null,
   "id": "9e28a005",
   "metadata": {},
   "outputs": [],
   "source": []
  }
 ],
 "metadata": {
  "kernelspec": {
   "display_name": "Python 3",
   "language": "python",
   "name": "python3"
  },
  "language_info": {
   "codemirror_mode": {
    "name": "ipython",
    "version": 3
   },
   "file_extension": ".py",
   "mimetype": "text/x-python",
   "name": "python",
   "nbconvert_exporter": "python",
   "pygments_lexer": "ipython3",
   "version": "3.8.8"
  }
 },
 "nbformat": 4,
 "nbformat_minor": 5
}
