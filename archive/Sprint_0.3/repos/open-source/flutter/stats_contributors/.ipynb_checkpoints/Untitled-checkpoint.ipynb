{
 "cells": [
  {
   "cell_type": "code",
   "execution_count": 2,
   "id": "d52ca8b2",
   "metadata": {},
   "outputs": [],
   "source": [
    "# single contributor experiment"
   ]
  },
  {
   "cell_type": "code",
   "execution_count": 6,
   "id": "716021ec",
   "metadata": {},
   "outputs": [],
   "source": [
    "import json\n",
    "  \n",
    "json_file = open('single_contributor_stats.json')\n",
    "\n",
    "data = json.load(json_file)[0]"
   ]
  },
  {
   "cell_type": "code",
   "execution_count": 11,
   "id": "d8c02be5",
   "metadata": {},
   "outputs": [
    {
     "data": {
      "text/plain": [
       "55"
      ]
     },
     "execution_count": 11,
     "metadata": {},
     "output_type": "execute_result"
    }
   ],
   "source": [
    "commit_count = 0\n",
    "for week_dict in data['weeks']:\n",
    "    commit_count += week_dict['c']\n",
    "commit_count"
   ]
  },
  {
   "cell_type": "code",
   "execution_count": null,
   "id": "deb43f8c",
   "metadata": {},
   "outputs": [],
   "source": []
  }
 ],
 "metadata": {
  "kernelspec": {
   "display_name": "Python 3",
   "language": "python",
   "name": "python3"
  },
  "language_info": {
   "codemirror_mode": {
    "name": "ipython",
    "version": 3
   },
   "file_extension": ".py",
   "mimetype": "text/x-python",
   "name": "python",
   "nbconvert_exporter": "python",
   "pygments_lexer": "ipython3",
   "version": "3.8.8"
  }
 },
 "nbformat": 4,
 "nbformat_minor": 5
}
