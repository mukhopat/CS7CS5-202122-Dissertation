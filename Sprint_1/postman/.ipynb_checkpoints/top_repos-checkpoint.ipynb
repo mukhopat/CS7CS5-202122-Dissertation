{
 "cells": [
  {
   "cell_type": "code",
   "execution_count": 12,
   "id": "4969dfe4",
   "metadata": {},
   "outputs": [],
   "source": [
    "import json\n",
    "import os\n",
    "\n",
    "os.mkdir ( '../repos/top_repos/' )\n",
    "\n",
    "categories = ['star_count', 'size', 'fork_count', 'follower_count']\n",
    "\n",
    "for category in categories:\n",
    "    \n",
    "    name = f'top_repos_by_{category}'\n",
    "    \n",
    "    with open ( 'json_files/' + name + '.json', encoding=\"utf8\") as json_file:\n",
    "        data = json.load(json_file)\n",
    "        \n",
    "    url_list = []\n",
    "    \n",
    "    category_foldername = f'../repos/top_repos/{name}/'\n",
    "    os.mkdir ( category_foldername )\n",
    "    rank = 1\n",
    "    \n",
    "    for repo in data['items']:      \n",
    "        \n",
    "        repo_name = repo['name']\n",
    "        os.mkdir ( f'{category_foldername}{rank}. {repo_name}' )\n",
    "        rank += 1\n",
    "        \n",
    "        url_list.append ( repo['url'] )\n",
    "        url_list.append ( '\\n' )\n",
    "    \n",
    "    with open ( filename + '_url.txt', 'w+') as url_file:\n",
    "        url_file.writelines ( url_list )\n",
    "        url_file.truncate ( url_file.tell() - 2 ) # removes last newline"
   ]
  },
  {
   "cell_type": "code",
   "execution_count": null,
   "id": "3ed5aef5",
   "metadata": {},
   "outputs": [],
   "source": []
  }
 ],
 "metadata": {
  "kernelspec": {
   "display_name": "Python 3",
   "language": "python",
   "name": "python3"
  },
  "language_info": {
   "codemirror_mode": {
    "name": "ipython",
    "version": 3
   },
   "file_extension": ".py",
   "mimetype": "text/x-python",
   "name": "python",
   "nbconvert_exporter": "python",
   "pygments_lexer": "ipython3",
   "version": "3.8.8"
  }
 },
 "nbformat": 4,
 "nbformat_minor": 5
}
