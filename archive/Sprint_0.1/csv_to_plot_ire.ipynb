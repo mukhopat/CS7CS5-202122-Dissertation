{
 "cells": [
  {
   "cell_type": "code",
   "execution_count": 1,
   "id": "07a0d81e",
   "metadata": {},
   "outputs": [],
   "source": [
    "import pandas as pd\n",
    "import numpy as np\n",
    "import matplotlib.pyplot as plt\n",
    "\n",
    "try:\n",
    "    df = pd.read_csv(\"commit_data.csv\")\n",
    "except:\n",
    "    print(\"commit_data.csv does not exist.\")"
   ]
  },
  {
   "cell_type": "code",
   "execution_count": 2,
   "id": "3d526e82",
   "metadata": {},
   "outputs": [
    {
     "data": {
      "text/html": [
       "<div>\n",
       "<style scoped>\n",
       "    .dataframe tbody tr th:only-of-type {\n",
       "        vertical-align: middle;\n",
       "    }\n",
       "\n",
       "    .dataframe tbody tr th {\n",
       "        vertical-align: top;\n",
       "    }\n",
       "\n",
       "    .dataframe thead th {\n",
       "        text-align: right;\n",
       "    }\n",
       "</style>\n",
       "<table border=\"1\" class=\"dataframe\">\n",
       "  <thead>\n",
       "    <tr style=\"text-align: right;\">\n",
       "      <th></th>\n",
       "      <th>date</th>\n",
       "      <th>commit_count</th>\n",
       "    </tr>\n",
       "  </thead>\n",
       "  <tbody>\n",
       "    <tr>\n",
       "      <th>0</th>\n",
       "      <td>2020-01-01</td>\n",
       "      <td>616651</td>\n",
       "    </tr>\n",
       "    <tr>\n",
       "      <th>1</th>\n",
       "      <td>2020-01-02</td>\n",
       "      <td>1748748</td>\n",
       "    </tr>\n",
       "    <tr>\n",
       "      <th>2</th>\n",
       "      <td>2020-01-03</td>\n",
       "      <td>1410388</td>\n",
       "    </tr>\n",
       "    <tr>\n",
       "      <th>3</th>\n",
       "      <td>2020-01-04</td>\n",
       "      <td>1301949</td>\n",
       "    </tr>\n",
       "    <tr>\n",
       "      <th>4</th>\n",
       "      <td>2020-01-05</td>\n",
       "      <td>895101</td>\n",
       "    </tr>\n",
       "  </tbody>\n",
       "</table>\n",
       "</div>"
      ],
      "text/plain": [
       "        date  commit_count\n",
       "0 2020-01-01        616651\n",
       "1 2020-01-02       1748748\n",
       "2 2020-01-03       1410388\n",
       "3 2020-01-04       1301949\n",
       "4 2020-01-05        895101"
      ]
     },
     "execution_count": 2,
     "metadata": {},
     "output_type": "execute_result"
    }
   ],
   "source": [
    "df['date'] = pd.to_datetime(df['date'])\n",
    "df.head()"
   ]
  },
  {
   "cell_type": "code",
   "execution_count": 3,
   "id": "4d2f3439",
   "metadata": {},
   "outputs": [],
   "source": [
    "first_lockdown_date = pd.to_datetime('2020-03-12')\n",
    "\n",
    "precovid_df = df[df['date'] <= first_lockdown_date]\n",
    "postcovid_df = df[df['date'] >= first_lockdown_date]"
   ]
  },
  {
   "cell_type": "code",
   "execution_count": 4,
   "id": "90327883",
   "metadata": {},
   "outputs": [],
   "source": [
    "import matplotlib.dates as dates\n",
    "%matplotlib qt\n",
    "\n",
    "fig, ax = plt.subplots()\n",
    "ax.plot ( precovid_df['date'], precovid_df['commit_count'], color = 'g', label = \"Pre-covid\" )#, marker = \".\" )\n",
    "ax.plot ( postcovid_df['date'], postcovid_df['commit_count'], color = 'r', label = \"Post-covid\" )#, marker = \"x\" )\n",
    "fig.autofmt_xdate()\n",
    "plt.title ( 'Date vs Commit Count before and after the Initial Covid Lockdown', size = 18 )\n",
    "plt.xlabel ( 'Date', size = 15 )\n",
    "plt.ylabel ( 'Commit Count', size = 15 )\n",
    "plt.axvline( x=first_lockdown_date, color='c', linestyle='dotted', linewidth=2, label='First Covid Lockdown')\n",
    "\n",
    "# Get values for the trend line analysis\n",
    "x_dates = df['date']\n",
    "x_num = dates.date2num(x_dates)\n",
    "trend = np.polyfit(x_num, df['commit_count'], 1)\n",
    "fit = np.poly1d(trend)\n",
    "\n",
    "x_fit = np.linspace(x_num.min(), x_num.max())\n",
    "plt.plot(dates.num2date(x_fit), fit(x_fit), \"b--\", label='Trendline')\n",
    "plt.legend ( loc = 'best' )\n",
    "plt.show()"
   ]
  },
  {
   "cell_type": "code",
   "execution_count": null,
   "id": "63fa5e2f",
   "metadata": {},
   "outputs": [],
   "source": []
  }
 ],
 "metadata": {
  "kernelspec": {
   "display_name": "Python 3",
   "language": "python",
   "name": "python3"
  },
  "language_info": {
   "codemirror_mode": {
    "name": "ipython",
    "version": 3
   },
   "file_extension": ".py",
   "mimetype": "text/x-python",
   "name": "python",
   "nbconvert_exporter": "python",
   "pygments_lexer": "ipython3",
   "version": "3.8.8"
  }
 },
 "nbformat": 4,
 "nbformat_minor": 5
}
