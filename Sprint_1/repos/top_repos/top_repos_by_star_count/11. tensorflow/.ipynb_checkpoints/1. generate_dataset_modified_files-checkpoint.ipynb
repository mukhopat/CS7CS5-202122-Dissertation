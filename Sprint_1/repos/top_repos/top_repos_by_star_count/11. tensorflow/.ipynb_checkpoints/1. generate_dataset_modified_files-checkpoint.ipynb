{
 "cells": [
  {
   "cell_type": "code",
   "execution_count": null,
   "id": "bd0bbdeb",
   "metadata": {},
   "outputs": [],
   "source": [
    "from pydriller import Repository\n",
    "from time import time\n",
    "from datetime import timedelta\n",
    "import os\n",
    "from get_repo_name import get_repo_name\n",
    "\n",
    "repo_name = get_repo_name ( os.path.basename ( os.getcwd() ) )\n",
    "repo_path = f'./clone/{repo_name}'\n",
    "\n",
    "commit_data = []\n",
    "\n",
    "start_time = time()\n",
    "\n",
    "for commit in Repository(repo_path).traverse_commits():\n",
    "    for file in commit.modified_files:\n",
    "        commit_data.append( [\n",
    "            commit.hash, \n",
    "            commit.author.name, \n",
    "            commit.author.email,\n",
    "            commit.committer_date,\n",
    "            commit.merge,\n",
    "            commit.dmm_unit_size,\n",
    "            commit.dmm_unit_complexity,\n",
    "            commit.dmm_unit_interfacing,\n",
    "            file.filename, \n",
    "            file.change_type, \n",
    "            file.added_lines, \n",
    "            file.deleted_lines,\n",
    "            file.nloc,\n",
    "            file.complexity,\n",
    "            file.token_count\n",
    "        ] )\n",
    "        \n",
    "print( f'Execution time = { str ( timedelta ( seconds = time() - start_time ) ) }' )"
   ]
  },
  {
   "cell_type": "code",
   "execution_count": null,
   "id": "14c22a6c",
   "metadata": {},
   "outputs": [],
   "source": [
    "import pandas as pd\n",
    "\n",
    "df = pd.DataFrame(commit_data)\n",
    "\n",
    "df.columns = [\n",
    "    'commit_hash', \n",
    "    'commit_author_name', \n",
    "    'commit_author_email',\n",
    "    'commit_datetime', \n",
    "    'commit_merge',\n",
    "    'dmm_unit_size',\n",
    "    'dmm_unit_complexity',\n",
    "    'dmm_unit_interfacing',\n",
    "    'file_name', \n",
    "    'file_change_type', \n",
    "    'file_lines_added',\n",
    "    'file_lines_deleted',\n",
    "    'file_loc',\n",
    "    'file_complexity',\n",
    "    'file_token_count'\n",
    "]\n",
    "\n",
    "df"
   ]
  },
  {
   "cell_type": "code",
   "execution_count": null,
   "id": "b2ba10e9",
   "metadata": {},
   "outputs": [],
   "source": [
    "df.to_csv ( f'datasets/{repo_name}_modfiles.csv', index = False )"
   ]
  },
  {
   "cell_type": "code",
   "execution_count": null,
   "id": "d31924db",
   "metadata": {},
   "outputs": [],
   "source": [
    "import winsound\n",
    "winsound.MessageBeep ( type = -1 )"
   ]
  },
  {
   "cell_type": "code",
   "execution_count": null,
   "id": "9f7d901c",
   "metadata": {},
   "outputs": [],
   "source": []
  }
 ],
 "metadata": {
  "kernelspec": {
   "display_name": "Python 3",
   "language": "python",
   "name": "python3"
  },
  "language_info": {
   "codemirror_mode": {
    "name": "ipython",
    "version": 3
   },
   "file_extension": ".py",
   "mimetype": "text/x-python",
   "name": "python",
   "nbconvert_exporter": "python",
   "pygments_lexer": "ipython3",
   "version": "3.8.8"
  }
 },
 "nbformat": 4,
 "nbformat_minor": 5
}
