{
 "cells": [
  {
   "cell_type": "code",
   "execution_count": 1,
   "id": "8ec8e964",
   "metadata": {
    "executionInfo": {
     "elapsed": 797,
     "status": "ok",
     "timestamp": 1657791387466,
     "user": {
      "displayName": "Tapabrata Mukhopadhyay",
      "userId": "10787340416214308199"
     },
     "user_tz": -60
    },
    "id": "8ec8e964"
   },
   "outputs": [],
   "source": [
    "import requests\n",
    "import json\n",
    "from tqdm.notebook import tqdm\n",
    "from time import sleep\n",
    "import os\n",
    "\n",
    "def date_range(start_date, end_date):\n",
    "    for n in range(int((end_date - start_date).days)):\n",
    "        yield start_date + timedelta(n)\n",
    "\n",
    "commit_data = {}\n",
    "sleep_time = 1 * 60\n",
    "\n",
    "\n",
    "def get_commit_count(date):\n",
    "  date = date.strftime(\"%Y-%m-%d\")\n",
    "  url = f\"https://api.github.com/search/commits?q=committer-date:{date}\"\n",
    "  payload={}\n",
    "  headers = {\n",
    "      'Authorization': os.getenv('GITHUB_AUTH_TOKEN')\n",
    "  }\n",
    "  response = requests.request(\"GET\", url, headers=headers, data=payload)\n",
    "  try:\n",
    "      commit_count = json.loads(response.text)['total_count']\n",
    "      commit_data[date] = commit_count\n",
    "  except:\n",
    "      print(f'{date}: {json.loads(response.text)}')\n"
   ]
  },
  {
   "cell_type": "code",
   "execution_count": 2,
   "id": "iBQgYZM18AvG",
   "metadata": {
    "colab": {
     "base_uri": "https://localhost:8080/",
     "height": 66,
     "referenced_widgets": [
      "2906088d37a94bae957a59ee0d8f39d4",
      "0a29d3c603d64ec6972fed0748a558db",
      "e0dee5a2286b49ccafd436318d98ecd0",
      "18715384617c432ea535a8832c413de6",
      "e05d202657b24f7dbe95a5cf30d8e6ed",
      "efea5418c64747aa8781439d8e32fd25",
      "a549f54f06024e819c0eddd5e45b5baa",
      "4614359c3d9d40598f6f9badce30bf12",
      "e3b6b4024436468a878006794aa4b414",
      "0b0f3df2bd7348eb81467a7f0ae6fe3d",
      "6e1392e39d6349ba85bb662340fa8205"
     ]
    },
    "executionInfo": {
     "elapsed": 3592,
     "status": "ok",
     "timestamp": 1657791391022,
     "user": {
      "displayName": "Tapabrata Mukhopadhyay",
      "userId": "10787340416214308199"
     },
     "user_tz": -60
    },
    "id": "iBQgYZM18AvG",
    "outputId": "757433d8-ffe8-4a95-cec4-2d51980a51c6"
   },
   "outputs": [
    {
     "data": {
      "application/vnd.jupyter.widget-view+json": {
       "model_id": "bdef5bbb7c904d808d051d08992c117a",
       "version_major": 2,
       "version_minor": 0
      },
      "text/plain": [
       "  0%|          | 0/365 [00:00<?, ?it/s]"
      ]
     },
     "metadata": {},
     "output_type": "display_data"
    },
    {
     "name": "stdout",
     "output_type": "stream",
     "text": [
      "Done!\n"
     ]
    }
   ],
   "source": [
    "from datetime import date, timedelta\n",
    "start_date = date(2017, 1, 1)\n",
    "end_date = date(2017, 1, 2)\n",
    "\n",
    "prog_bar = tqdm(total=365)\n",
    "\n",
    "def prog_update():\n",
    "  prog_bar.update(30)\n",
    "\n",
    "for date in date_range(start_date, end_date):\n",
    "    \n",
    "  days_elapsed = int((date - start_date).days)\n",
    "    \n",
    "  if (days_elapsed % 30 == 0) & (days_elapsed > 0):\n",
    "    prog_update()\n",
    "    sleep(sleep_time)\n",
    "        \n",
    "  get_commit_count(date)    \n",
    "\n",
    "\n",
    "prog_bar.update(5)\n",
    "prog_bar.close()\n",
    "print(\"Done!\")"
   ]
  },
  {
   "cell_type": "code",
   "execution_count": 3,
   "id": "976c4dfb",
   "metadata": {
    "colab": {
     "base_uri": "https://localhost:8080/",
     "height": 332
    },
    "executionInfo": {
     "elapsed": 367,
     "status": "ok",
     "timestamp": 1657791394254,
     "user": {
      "displayName": "Tapabrata Mukhopadhyay",
      "userId": "10787340416214308199"
     },
     "user_tz": -60
    },
    "id": "976c4dfb",
    "outputId": "b23ec8cf-b2a9-4ac9-f3bd-f5fd92cddd88"
   },
   "outputs": [
    {
     "data": {
      "text/html": [
       "<div>\n",
       "<style scoped>\n",
       "    .dataframe tbody tr th:only-of-type {\n",
       "        vertical-align: middle;\n",
       "    }\n",
       "\n",
       "    .dataframe tbody tr th {\n",
       "        vertical-align: top;\n",
       "    }\n",
       "\n",
       "    .dataframe thead th {\n",
       "        text-align: right;\n",
       "    }\n",
       "</style>\n",
       "<table border=\"1\" class=\"dataframe\">\n",
       "  <thead>\n",
       "    <tr style=\"text-align: right;\">\n",
       "      <th></th>\n",
       "      <th>date</th>\n",
       "      <th>commit_count</th>\n",
       "    </tr>\n",
       "  </thead>\n",
       "  <tbody>\n",
       "    <tr>\n",
       "      <th>0</th>\n",
       "      <td>2017-01-01</td>\n",
       "      <td>483421</td>\n",
       "    </tr>\n",
       "  </tbody>\n",
       "</table>\n",
       "</div>"
      ],
      "text/plain": [
       "         date  commit_count\n",
       "0  2017-01-01        483421"
      ]
     },
     "execution_count": 3,
     "metadata": {},
     "output_type": "execute_result"
    }
   ],
   "source": [
    "import pandas as pd\n",
    "commit_df = pd.DataFrame.from_dict(commit_data, \n",
    "                                   orient='index', \n",
    "                                   columns=['commit_count'])\n",
    "commit_df.reset_index(inplace=True)\n",
    "commit_df.rename(columns = {'index':'date'}, inplace=True)\n",
    "commit_df"
   ]
  },
  {
   "cell_type": "code",
   "execution_count": 4,
   "id": "e7b31749",
   "metadata": {
    "colab": {
     "base_uri": "https://localhost:8080/"
    },
    "executionInfo": {
     "elapsed": 747,
     "status": "ok",
     "timestamp": 1657791399518,
     "user": {
      "displayName": "Tapabrata Mukhopadhyay",
      "userId": "10787340416214308199"
     },
     "user_tz": -60
    },
    "id": "e7b31749",
    "outputId": "857c31df-c4ba-46d6-c0ad-e6da03516319"
   },
   "outputs": [
    {
     "name": "stdout",
     "output_type": "stream",
     "text": [
      "commit_data_2017_sept.csv does not exist.\n",
      "New commit_data_2017_sept.csv file created!\n"
     ]
    }
   ],
   "source": [
    "import os\n",
    "\n",
    "commit_filename = \"commit_data_2017_sept.csv\"\n",
    "\n",
    "try:\n",
    "    os.remove(commit_filename)\n",
    "except:\n",
    "    print(f\"{commit_filename} does not exist.\")\n",
    "\n",
    "commit_df.to_csv(commit_filename, index=False)\n",
    "print(f\"New {commit_filename} file created!\")"
   ]
  },
  {
   "cell_type": "code",
   "execution_count": null,
   "id": "cf430e7e",
   "metadata": {
    "id": "cf430e7e"
   },
   "outputs": [],
   "source": [
    "\n"
   ]
  }
 ],
 "metadata": {
  "colab": {
   "collapsed_sections": [],
   "name": "git_to_csv.ipynb",
   "provenance": []
  },
  "kernelspec": {
   "display_name": "Python 3",
   "language": "python",
   "name": "python3"
  },
  "language_info": {
   "codemirror_mode": {
    "name": "ipython",
    "version": 3
   },
   "file_extension": ".py",
   "mimetype": "text/x-python",
   "name": "python",
   "nbconvert_exporter": "python",
   "pygments_lexer": "ipython3",
   "version": "3.8.8"
  },
  "widgets": {
   "application/vnd.jupyter.widget-state+json": {
    "0a29d3c603d64ec6972fed0748a558db": {
     "model_module": "@jupyter-widgets/controls",
     "model_module_version": "1.5.0",
     "model_name": "HTMLModel",
     "state": {
      "_dom_classes": [],
      "_model_module": "@jupyter-widgets/controls",
      "_model_module_version": "1.5.0",
      "_model_name": "HTMLModel",
      "_view_count": null,
      "_view_module": "@jupyter-widgets/controls",
      "_view_module_version": "1.5.0",
      "_view_name": "HTMLView",
      "description": "",
      "description_tooltip": null,
      "layout": "IPY_MODEL_efea5418c64747aa8781439d8e32fd25",
      "placeholder": "​",
      "style": "IPY_MODEL_a549f54f06024e819c0eddd5e45b5baa",
      "value": "  1%"
     }
    },
    "0b0f3df2bd7348eb81467a7f0ae6fe3d": {
     "model_module": "@jupyter-widgets/base",
     "model_module_version": "1.2.0",
     "model_name": "LayoutModel",
     "state": {
      "_model_module": "@jupyter-widgets/base",
      "_model_module_version": "1.2.0",
      "_model_name": "LayoutModel",
      "_view_count": null,
      "_view_module": "@jupyter-widgets/base",
      "_view_module_version": "1.2.0",
      "_view_name": "LayoutView",
      "align_content": null,
      "align_items": null,
      "align_self": null,
      "border": null,
      "bottom": null,
      "display": null,
      "flex": null,
      "flex_flow": null,
      "grid_area": null,
      "grid_auto_columns": null,
      "grid_auto_flow": null,
      "grid_auto_rows": null,
      "grid_column": null,
      "grid_gap": null,
      "grid_row": null,
      "grid_template_areas": null,
      "grid_template_columns": null,
      "grid_template_rows": null,
      "height": null,
      "justify_content": null,
      "justify_items": null,
      "left": null,
      "margin": null,
      "max_height": null,
      "max_width": null,
      "min_height": null,
      "min_width": null,
      "object_fit": null,
      "object_position": null,
      "order": null,
      "overflow": null,
      "overflow_x": null,
      "overflow_y": null,
      "padding": null,
      "right": null,
      "top": null,
      "visibility": null,
      "width": null
     }
    },
    "18715384617c432ea535a8832c413de6": {
     "model_module": "@jupyter-widgets/controls",
     "model_module_version": "1.5.0",
     "model_name": "HTMLModel",
     "state": {
      "_dom_classes": [],
      "_model_module": "@jupyter-widgets/controls",
      "_model_module_version": "1.5.0",
      "_model_name": "HTMLModel",
      "_view_count": null,
      "_view_module": "@jupyter-widgets/controls",
      "_view_module_version": "1.5.0",
      "_view_name": "HTMLView",
      "description": "",
      "description_tooltip": null,
      "layout": "IPY_MODEL_0b0f3df2bd7348eb81467a7f0ae6fe3d",
      "placeholder": "​",
      "style": "IPY_MODEL_6e1392e39d6349ba85bb662340fa8205",
      "value": " 5/365 [00:03&lt;04:26,  1.35it/s]"
     }
    },
    "2906088d37a94bae957a59ee0d8f39d4": {
     "model_module": "@jupyter-widgets/controls",
     "model_module_version": "1.5.0",
     "model_name": "HBoxModel",
     "state": {
      "_dom_classes": [],
      "_model_module": "@jupyter-widgets/controls",
      "_model_module_version": "1.5.0",
      "_model_name": "HBoxModel",
      "_view_count": null,
      "_view_module": "@jupyter-widgets/controls",
      "_view_module_version": "1.5.0",
      "_view_name": "HBoxView",
      "box_style": "",
      "children": [
       "IPY_MODEL_0a29d3c603d64ec6972fed0748a558db",
       "IPY_MODEL_e0dee5a2286b49ccafd436318d98ecd0",
       "IPY_MODEL_18715384617c432ea535a8832c413de6"
      ],
      "layout": "IPY_MODEL_e05d202657b24f7dbe95a5cf30d8e6ed"
     }
    },
    "4614359c3d9d40598f6f9badce30bf12": {
     "model_module": "@jupyter-widgets/base",
     "model_module_version": "1.2.0",
     "model_name": "LayoutModel",
     "state": {
      "_model_module": "@jupyter-widgets/base",
      "_model_module_version": "1.2.0",
      "_model_name": "LayoutModel",
      "_view_count": null,
      "_view_module": "@jupyter-widgets/base",
      "_view_module_version": "1.2.0",
      "_view_name": "LayoutView",
      "align_content": null,
      "align_items": null,
      "align_self": null,
      "border": null,
      "bottom": null,
      "display": null,
      "flex": null,
      "flex_flow": null,
      "grid_area": null,
      "grid_auto_columns": null,
      "grid_auto_flow": null,
      "grid_auto_rows": null,
      "grid_column": null,
      "grid_gap": null,
      "grid_row": null,
      "grid_template_areas": null,
      "grid_template_columns": null,
      "grid_template_rows": null,
      "height": null,
      "justify_content": null,
      "justify_items": null,
      "left": null,
      "margin": null,
      "max_height": null,
      "max_width": null,
      "min_height": null,
      "min_width": null,
      "object_fit": null,
      "object_position": null,
      "order": null,
      "overflow": null,
      "overflow_x": null,
      "overflow_y": null,
      "padding": null,
      "right": null,
      "top": null,
      "visibility": null,
      "width": null
     }
    },
    "6e1392e39d6349ba85bb662340fa8205": {
     "model_module": "@jupyter-widgets/controls",
     "model_module_version": "1.5.0",
     "model_name": "DescriptionStyleModel",
     "state": {
      "_model_module": "@jupyter-widgets/controls",
      "_model_module_version": "1.5.0",
      "_model_name": "DescriptionStyleModel",
      "_view_count": null,
      "_view_module": "@jupyter-widgets/base",
      "_view_module_version": "1.2.0",
      "_view_name": "StyleView",
      "description_width": ""
     }
    },
    "a549f54f06024e819c0eddd5e45b5baa": {
     "model_module": "@jupyter-widgets/controls",
     "model_module_version": "1.5.0",
     "model_name": "DescriptionStyleModel",
     "state": {
      "_model_module": "@jupyter-widgets/controls",
      "_model_module_version": "1.5.0",
      "_model_name": "DescriptionStyleModel",
      "_view_count": null,
      "_view_module": "@jupyter-widgets/base",
      "_view_module_version": "1.2.0",
      "_view_name": "StyleView",
      "description_width": ""
     }
    },
    "e05d202657b24f7dbe95a5cf30d8e6ed": {
     "model_module": "@jupyter-widgets/base",
     "model_module_version": "1.2.0",
     "model_name": "LayoutModel",
     "state": {
      "_model_module": "@jupyter-widgets/base",
      "_model_module_version": "1.2.0",
      "_model_name": "LayoutModel",
      "_view_count": null,
      "_view_module": "@jupyter-widgets/base",
      "_view_module_version": "1.2.0",
      "_view_name": "LayoutView",
      "align_content": null,
      "align_items": null,
      "align_self": null,
      "border": null,
      "bottom": null,
      "display": null,
      "flex": null,
      "flex_flow": null,
      "grid_area": null,
      "grid_auto_columns": null,
      "grid_auto_flow": null,
      "grid_auto_rows": null,
      "grid_column": null,
      "grid_gap": null,
      "grid_row": null,
      "grid_template_areas": null,
      "grid_template_columns": null,
      "grid_template_rows": null,
      "height": null,
      "justify_content": null,
      "justify_items": null,
      "left": null,
      "margin": null,
      "max_height": null,
      "max_width": null,
      "min_height": null,
      "min_width": null,
      "object_fit": null,
      "object_position": null,
      "order": null,
      "overflow": null,
      "overflow_x": null,
      "overflow_y": null,
      "padding": null,
      "right": null,
      "top": null,
      "visibility": null,
      "width": null
     }
    },
    "e0dee5a2286b49ccafd436318d98ecd0": {
     "model_module": "@jupyter-widgets/controls",
     "model_module_version": "1.5.0",
     "model_name": "FloatProgressModel",
     "state": {
      "_dom_classes": [],
      "_model_module": "@jupyter-widgets/controls",
      "_model_module_version": "1.5.0",
      "_model_name": "FloatProgressModel",
      "_view_count": null,
      "_view_module": "@jupyter-widgets/controls",
      "_view_module_version": "1.5.0",
      "_view_name": "ProgressView",
      "bar_style": "danger",
      "description": "",
      "description_tooltip": null,
      "layout": "IPY_MODEL_4614359c3d9d40598f6f9badce30bf12",
      "max": 365,
      "min": 0,
      "orientation": "horizontal",
      "style": "IPY_MODEL_e3b6b4024436468a878006794aa4b414",
      "value": 5
     }
    },
    "e3b6b4024436468a878006794aa4b414": {
     "model_module": "@jupyter-widgets/controls",
     "model_module_version": "1.5.0",
     "model_name": "ProgressStyleModel",
     "state": {
      "_model_module": "@jupyter-widgets/controls",
      "_model_module_version": "1.5.0",
      "_model_name": "ProgressStyleModel",
      "_view_count": null,
      "_view_module": "@jupyter-widgets/base",
      "_view_module_version": "1.2.0",
      "_view_name": "StyleView",
      "bar_color": null,
      "description_width": ""
     }
    },
    "efea5418c64747aa8781439d8e32fd25": {
     "model_module": "@jupyter-widgets/base",
     "model_module_version": "1.2.0",
     "model_name": "LayoutModel",
     "state": {
      "_model_module": "@jupyter-widgets/base",
      "_model_module_version": "1.2.0",
      "_model_name": "LayoutModel",
      "_view_count": null,
      "_view_module": "@jupyter-widgets/base",
      "_view_module_version": "1.2.0",
      "_view_name": "LayoutView",
      "align_content": null,
      "align_items": null,
      "align_self": null,
      "border": null,
      "bottom": null,
      "display": null,
      "flex": null,
      "flex_flow": null,
      "grid_area": null,
      "grid_auto_columns": null,
      "grid_auto_flow": null,
      "grid_auto_rows": null,
      "grid_column": null,
      "grid_gap": null,
      "grid_row": null,
      "grid_template_areas": null,
      "grid_template_columns": null,
      "grid_template_rows": null,
      "height": null,
      "justify_content": null,
      "justify_items": null,
      "left": null,
      "margin": null,
      "max_height": null,
      "max_width": null,
      "min_height": null,
      "min_width": null,
      "object_fit": null,
      "object_position": null,
      "order": null,
      "overflow": null,
      "overflow_x": null,
      "overflow_y": null,
      "padding": null,
      "right": null,
      "top": null,
      "visibility": null,
      "width": null
     }
    }
   }
  }
 },
 "nbformat": 4,
 "nbformat_minor": 5
}
