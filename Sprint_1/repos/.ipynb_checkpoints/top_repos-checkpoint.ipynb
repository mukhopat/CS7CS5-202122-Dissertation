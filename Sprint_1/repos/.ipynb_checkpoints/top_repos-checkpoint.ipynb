{
 "cells": [
  {
   "cell_type": "code",
   "execution_count": 1,
   "id": "4969dfe4",
   "metadata": {},
   "outputs": [],
   "source": [
    "import json\n",
    "import os\n",
    "import shutil\n",
    "\n",
    "trb = 'top_repos_by_'\n",
    "json_suffix = '.json'\n",
    "postman_dir_path = '../postman/'\n",
    "top_repos_json_files_path = postman_dir_path + 'top_repos_json_files/'\n",
    "top_repos_path = 'top_repos/'\n",
    "template_path = 'template/'"
   ]
  },
  {
   "cell_type": "code",
   "execution_count": 2,
   "id": "6c52cc97",
   "metadata": {},
   "outputs": [],
   "source": [
    "def recreate_dir ( path ):\n",
    "    \n",
    "    if os.path.exists ( path ):\n",
    "        shutil.rmtree ( path )\n",
    "        \n",
    "    os.mkdir ( path )\n",
    "    \n",
    "recreate_dir ( top_repos_path )"
   ]
  },
  {
   "cell_type": "code",
   "execution_count": 3,
   "id": "469b8fbe",
   "metadata": {},
   "outputs": [],
   "source": [
    "def get_categories ( path ):\n",
    "    \n",
    "    categories = []\n",
    "    \n",
    "    for filename in os.listdir ( path ):\n",
    "        categories.append ( filename [ len(trb) : ( 0 - len(json_suffix) ) ] )\n",
    "\n",
    "    return categories"
   ]
  },
  {
   "cell_type": "code",
   "execution_count": 4,
   "id": "de814b44",
   "metadata": {},
   "outputs": [],
   "source": [
    "def get_json_data ( path ):\n",
    "    with open ( path, encoding=\"utf8\") as json_file:\n",
    "        return json.load(json_file)"
   ]
  },
  {
   "cell_type": "code",
   "execution_count": 5,
   "id": "a61bc1e4",
   "metadata": {},
   "outputs": [],
   "source": [
    "categories = get_categories ( top_repos_json_files_path )\n",
    "\n",
    "for category in categories:\n",
    "    \n",
    "    name = f'{trb}{category}'\n",
    "    \n",
    "    data = get_json_data ( f'{top_repos_json_files_path}{name}{json_suffix}' )\n",
    "        \n",
    "    url_list = []\n",
    "    \n",
    "    category_foldername = f'{top_repos_path}{name}/'\n",
    "    os.mkdir ( category_foldername )\n",
    "    rank = 1\n",
    "    \n",
    "    for repo in data['items']:      \n",
    "        \n",
    "        repo_name = category_foldername + str(rank) + '. ' + repo['name']\n",
    "        repo_dir_path = shutil.copytree ( src = template_path, dst = repo_name, copy_function = shutil.copy )\n",
    "        \n",
    "        clone_dir_path = repo_dir_path + '/clone/'\n",
    "        with open ( clone_dir_path + repo['name'] + '_url.txt', 'w+') as url_file:\n",
    "            url_file.write ( repo['url'].replace('api.', '').replace('repos/', '') )\n",
    "        \n",
    "        rank += 1"
   ]
  },
  {
   "cell_type": "code",
   "execution_count": null,
   "id": "56c2d8d6",
   "metadata": {},
   "outputs": [],
   "source": []
  }
 ],
 "metadata": {
  "kernelspec": {
   "display_name": "Python 3",
   "language": "python",
   "name": "python3"
  },
  "language_info": {
   "codemirror_mode": {
    "name": "ipython",
    "version": 3
   },
   "file_extension": ".py",
   "mimetype": "text/x-python",
   "name": "python",
   "nbconvert_exporter": "python",
   "pygments_lexer": "ipython3",
   "version": "3.8.8"
  }
 },
 "nbformat": 4,
 "nbformat_minor": 5
}
