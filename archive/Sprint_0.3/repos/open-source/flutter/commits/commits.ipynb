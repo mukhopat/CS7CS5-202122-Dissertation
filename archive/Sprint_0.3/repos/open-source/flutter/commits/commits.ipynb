{
 "cells": [
  {
   "cell_type": "markdown",
   "id": "ce90a73c",
   "metadata": {},
   "source": [
    "# Get all commit SHA for the repo from GitHub"
   ]
  },
  {
   "cell_type": "code",
   "execution_count": 1,
   "id": "e7c57f14",
   "metadata": {},
   "outputs": [],
   "source": [
    "import requests\n",
    "import os\n",
    "\n",
    "base_url = \"https://api.github.com\"\n",
    "repo_path = \"/repos/flutter/flutter\"\n",
    "end_point = \"/commits\"\n",
    "page_url_query = '?per_page=100&page=1'\n",
    "\n",
    "my_headers = {\n",
    "#         'Accept': 'application/vnd.github+json',\n",
    "    'Authorization': os.getenv('GITHUB_AUTH_TOKEN')\n",
    "}"
   ]
  },
  {
   "cell_type": "code",
   "execution_count": 2,
   "id": "37391644",
   "metadata": {},
   "outputs": [],
   "source": [
    "def get_paginated_data ( url ):\n",
    "    \n",
    "    res = requests.get ( url, headers = my_headers )\n",
    "    json_data = res.json()\n",
    "\n",
    "    while 'next' in res.links.keys():\n",
    "        res = requests.get ( res.links['next']['url'], headers = my_headers )\n",
    "        json_data.extend ( res.json() )\n",
    "    \n",
    "    return json_data"
   ]
  },
  {
   "cell_type": "code",
   "execution_count": 3,
   "id": "ce133163",
   "metadata": {},
   "outputs": [],
   "source": [
    "def get_json_data ( url ):\n",
    "    \n",
    "    res = requests.get ( url, headers = my_headers )\n",
    "#     print(res.headers['Retry-After'])\n",
    "    json_data = res.json()\n",
    "\n",
    "    return json_data"
   ]
  },
  {
   "cell_type": "code",
   "execution_count": 4,
   "id": "d39e7ec2",
   "metadata": {},
   "outputs": [],
   "source": [
    "url = base_url + repo_path + end_point + page_url_query\n",
    "\n",
    "commits = get_paginated_data ( url )"
   ]
  },
  {
   "cell_type": "code",
   "execution_count": 5,
   "id": "ab66e8cd",
   "metadata": {},
   "outputs": [],
   "source": [
    "sha_list = []\n",
    "\n",
    "for commit in commits:\n",
    "    sha_list.append(commit['sha'])"
   ]
  },
  {
   "cell_type": "code",
   "execution_count": 6,
   "id": "0fbaaa2d",
   "metadata": {},
   "outputs": [],
   "source": [
    "# import csv\n",
    "\n",
    "# with open('sha_list.csv', 'w') as file:\n",
    "#     writer = csv.writer(file)\n",
    "#     writer.writerow(sha_list)"
   ]
  },
  {
   "cell_type": "code",
   "execution_count": 7,
   "id": "1b632faf",
   "metadata": {},
   "outputs": [],
   "source": [
    "# validate if all sha in the sha_list are of length 40\n",
    "# print( all( (len(sha_list[idx]) == 40) for idx in range(len(sha_list)) ) )"
   ]
  },
  {
   "cell_type": "markdown",
   "id": "b66449c8",
   "metadata": {},
   "source": [
    "# Generate slices of sha_list. Each slice shall have <= 4,500 SHA."
   ]
  },
  {
   "cell_type": "code",
   "execution_count": 6,
   "id": "6b4df5f1",
   "metadata": {},
   "outputs": [],
   "source": [
    "import numpy as np\n",
    "import csv\n",
    "from math import ceil\n",
    "\n",
    "max_slice_len = 1000\n",
    "\n",
    "sliced_sha_list = np.array_split(sha_list, ceil (len(sha_list) / max_slice_len) )\n",
    "\n",
    "with open('sha_list.csv', 'w', newline='') as file:\n",
    "    writer = csv.writer(file)\n",
    "    writer.writerows(sliced_sha_list)"
   ]
  },
  {
   "cell_type": "code",
   "execution_count": 7,
   "id": "81c29152",
   "metadata": {},
   "outputs": [
    {
     "data": {
      "text/plain": [
       "31"
      ]
     },
     "execution_count": 7,
     "metadata": {},
     "output_type": "execute_result"
    }
   ],
   "source": [
    "with open('sha_list.csv', newline='') as f:\n",
    "    sliced_sha_list = [ list(rec) for rec in csv.reader(f, delimiter=',')]\n",
    "\n",
    "len(sliced_sha_list)"
   ]
  },
  {
   "cell_type": "code",
   "execution_count": 5,
   "id": "f8a4a73e",
   "metadata": {},
   "outputs": [
    {
     "data": {
      "text/plain": [
       "31"
      ]
     },
     "execution_count": 5,
     "metadata": {},
     "output_type": "execute_result"
    }
   ],
   "source": [
    "# with open('sha_list.csv') as f:\n",
    "#     sliced_sha_list = f.read().splitlines()\n",
    "    \n",
    "# len(sliced_sha_list)"
   ]
  },
  {
   "cell_type": "markdown",
   "id": "45f1953b",
   "metadata": {},
   "source": [
    "# Generate dataset by fetching data using commit SHA"
   ]
  },
  {
   "cell_type": "code",
   "execution_count": 8,
   "id": "f2649966",
   "metadata": {},
   "outputs": [
    {
     "data": {
      "text/plain": [
       "20409"
      ]
     },
     "execution_count": 8,
     "metadata": {},
     "output_type": "execute_result"
    }
   ],
   "source": [
    "# final_commit_list = []\n",
    "\n",
    "import json\n",
    "\n",
    "with open('final_commit_list_20.json') as f:\n",
    "    final_commit_list = json.load(f)\n",
    "\n",
    "len(final_commit_list)"
   ]
  },
  {
   "cell_type": "code",
   "execution_count": 9,
   "id": "b33373d3",
   "metadata": {},
   "outputs": [],
   "source": [
    "def is_exception(json_data):\n",
    "    \n",
    "    if json_data is None:\n",
    "        return True\n",
    "    \n",
    "    key_list = ['commit', 'author', 'stats']\n",
    "    \n",
    "    for key in key_list:\n",
    "        if key not in json_data.keys():\n",
    "            return True\n",
    "        \n",
    "    if json_data['author'] is None or json_data['commit'] is None or json_data['stats'] is None:\n",
    "        return True\n",
    "    \n",
    "    return False"
   ]
  },
  {
   "cell_type": "code",
   "execution_count": 10,
   "id": "9e28a005",
   "metadata": {},
   "outputs": [],
   "source": [
    "def get_commit_data ( sha ):\n",
    "\n",
    "    commit_data = {}\n",
    "    url = base_url + repo_path + end_point + '/' + sha\n",
    "    json_data = get_json_data(url)\n",
    "    \n",
    "    if is_exception(json_data) is True:\n",
    "        return {}\n",
    "        \n",
    "    commit_data[sha] = { \n",
    "        'author_name':            json_data['commit']['author']['name'],\n",
    "        'author_email':           json_data['commit']['author']['email'],\n",
    "        'date':                   json_data['commit']['author']['date'],\n",
    "        'comment_count':          json_data['commit']['comment_count'],\n",
    "        'verified':               json_data['commit']['verification']['verified'],\n",
    "        'author_login':           json_data['author']['login'],\n",
    "        'author_id':              json_data['author']['id'],\n",
    "        'author_type':            json_data['author']['type'],\n",
    "        'author_is_site_admin':   json_data['author']['site_admin'],\n",
    "        'total':                  json_data['stats']['total'],\n",
    "        'additions':              json_data['stats']['additions'],\n",
    "        'deletions':              json_data['stats']['deletions']\n",
    "}\n",
    "\n",
    "    return commit_data"
   ]
  },
  {
   "cell_type": "code",
   "execution_count": 39,
   "id": "ab8739f1",
   "metadata": {},
   "outputs": [],
   "source": [
    "from concurrent.futures import ThreadPoolExecutor, as_completed\n",
    "\n",
    "with ThreadPoolExecutor ( max_workers = 50 ) as executor:\n",
    "    futures = [ executor.submit(get_commit_data, sha) for sha in sliced_sha_list[27] ]"
   ]
  },
  {
   "cell_type": "code",
   "execution_count": 40,
   "id": "56a4ec4c",
   "metadata": {},
   "outputs": [],
   "source": [
    "# url = url = base_url + repo_path + end_point + page_url_query + '&author=' + author[0]\n",
    "# commits_data = get_paginated_data(url)\n",
    "# commits_data"
   ]
  },
  {
   "cell_type": "code",
   "execution_count": 41,
   "id": "65811fde",
   "metadata": {},
   "outputs": [
    {
     "data": {
      "text/plain": [
       "0"
      ]
     },
     "execution_count": 41,
     "metadata": {},
     "output_type": "execute_result"
    }
   ],
   "source": [
    "count = 0\n",
    "for future in as_completed(futures):\n",
    "#     print(future.result())\n",
    "    if future.result() == {}:\n",
    "        count += 1\n",
    "        \n",
    "count"
   ]
  },
  {
   "cell_type": "code",
   "execution_count": 42,
   "id": "77f9924e",
   "metadata": {},
   "outputs": [],
   "source": [
    "for future in as_completed(futures):\n",
    "    final_commit_list.append(future.result())"
   ]
  },
  {
   "cell_type": "code",
   "execution_count": 43,
   "id": "6b221b90",
   "metadata": {},
   "outputs": [
    {
     "data": {
      "text/plain": [
       "26241"
      ]
     },
     "execution_count": 43,
     "metadata": {},
     "output_type": "execute_result"
    }
   ],
   "source": [
    "len(final_commit_list)"
   ]
  },
  {
   "cell_type": "code",
   "execution_count": 81,
   "id": "bda0c4a0",
   "metadata": {},
   "outputs": [],
   "source": [
    "import json\n",
    "with open('final_commit_list.json', 'w', newline='') as fcl_file:\n",
    "    json_object = json.dumps(final_commit_list)\n",
    "    fcl_file.write(json_object)"
   ]
  },
  {
   "cell_type": "code",
   "execution_count": null,
   "id": "6569976f",
   "metadata": {},
   "outputs": [],
   "source": []
  }
 ],
 "metadata": {
  "kernelspec": {
   "display_name": "Python 3",
   "language": "python",
   "name": "python3"
  },
  "language_info": {
   "codemirror_mode": {
    "name": "ipython",
    "version": 3
   },
   "file_extension": ".py",
   "mimetype": "text/x-python",
   "name": "python",
   "nbconvert_exporter": "python",
   "pygments_lexer": "ipython3",
   "version": "3.8.8"
  }
 },
 "nbformat": 4,
 "nbformat_minor": 5
}
