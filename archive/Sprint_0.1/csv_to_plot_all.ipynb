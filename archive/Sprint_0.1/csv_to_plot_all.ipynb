{
 "cells": [
  {
   "cell_type": "code",
   "execution_count": 20,
   "id": "07a0d81e",
   "metadata": {},
   "outputs": [],
   "source": [
    "import pandas as pd\n",
    "import numpy as np\n",
    "import matplotlib.pyplot as plt\n",
    "\n",
    "try:\n",
    "    df = pd.read_csv(\"commit_data.csv\")\n",
    "except:\n",
    "    print(\"commit_data.csv does not exist.\")"
   ]
  },
  {
   "cell_type": "code",
   "execution_count": 21,
   "id": "3d526e82",
   "metadata": {},
   "outputs": [
    {
     "data": {
      "text/html": [
       "<div>\n",
       "<style scoped>\n",
       "    .dataframe tbody tr th:only-of-type {\n",
       "        vertical-align: middle;\n",
       "    }\n",
       "\n",
       "    .dataframe tbody tr th {\n",
       "        vertical-align: top;\n",
       "    }\n",
       "\n",
       "    .dataframe thead th {\n",
       "        text-align: right;\n",
       "    }\n",
       "</style>\n",
       "<table border=\"1\" class=\"dataframe\">\n",
       "  <thead>\n",
       "    <tr style=\"text-align: right;\">\n",
       "      <th></th>\n",
       "      <th>date</th>\n",
       "      <th>commit_count</th>\n",
       "    </tr>\n",
       "  </thead>\n",
       "  <tbody>\n",
       "    <tr>\n",
       "      <th>0</th>\n",
       "      <td>2020-01-01</td>\n",
       "      <td>616651</td>\n",
       "    </tr>\n",
       "    <tr>\n",
       "      <th>1</th>\n",
       "      <td>2020-01-02</td>\n",
       "      <td>1748748</td>\n",
       "    </tr>\n",
       "    <tr>\n",
       "      <th>2</th>\n",
       "      <td>2020-01-03</td>\n",
       "      <td>1410388</td>\n",
       "    </tr>\n",
       "    <tr>\n",
       "      <th>3</th>\n",
       "      <td>2020-01-04</td>\n",
       "      <td>1301949</td>\n",
       "    </tr>\n",
       "    <tr>\n",
       "      <th>4</th>\n",
       "      <td>2020-01-05</td>\n",
       "      <td>895101</td>\n",
       "    </tr>\n",
       "  </tbody>\n",
       "</table>\n",
       "</div>"
      ],
      "text/plain": [
       "        date  commit_count\n",
       "0 2020-01-01        616651\n",
       "1 2020-01-02       1748748\n",
       "2 2020-01-03       1410388\n",
       "3 2020-01-04       1301949\n",
       "4 2020-01-05        895101"
      ]
     },
     "execution_count": 21,
     "metadata": {},
     "output_type": "execute_result"
    }
   ],
   "source": [
    "df['date'] = pd.to_datetime(df['date'])\n",
    "df.head()"
   ]
  },
  {
   "cell_type": "code",
   "execution_count": 44,
   "id": "4d2f3439",
   "metadata": {},
   "outputs": [],
   "source": [
    "first_lockdown_dates = [\n",
    "    pd.to_datetime('2020-01-23'),    # China\n",
    "    pd.to_datetime('2020-03-17'),    # Canada and France\n",
    "    pd.to_datetime('2020-03-19'),    # USA\n",
    "    pd.to_datetime('2020-03-22'),    # Germany\n",
    "    pd.to_datetime('2020-03-23'),    # Australia and UK\n",
    "    pd.to_datetime('2020-03-24'),    # India\n",
    "    pd.to_datetime('2020-03-29'),    # Russia\n",
    "    pd.to_datetime('2020-05-05')     # Brazil    \n",
    "]\n",
    "\n",
    "# vline_colors = [ 'red', 'darkgoldenrod', 'y', 'olive', 'forestgreen', 'teal', 'dodgerblue', 'magenta' ]\n",
    "vline_colors = [ 'red', 'lightpink', 'lime', 'gold', 'darkgreen', 'aqua', 'fuchsia', 'blue' ]\n",
    "\n",
    "vline_labels = [ 'China', 'Canada and France', 'USA', 'Germany', 'Australia and UK', 'India', 'Russia', 'Brazil' ]"
   ]
  },
  {
   "cell_type": "code",
   "execution_count": 54,
   "id": "90327883",
   "metadata": {},
   "outputs": [],
   "source": [
    "import matplotlib.dates as dates\n",
    "%matplotlib qt\n",
    "\n",
    "fig, ax = plt.subplots()\n",
    "ax.plot ( df['date'], df['commit_count'], color = 'gray', label = \"Commit Count\" )\n",
    "fig.autofmt_xdate()\n",
    "plt.title ( 'Date vs Commit Count before and after the Initial Covid Lockdown of Top 10 GitHub Using Nations', size = 18 )\n",
    "plt.xlabel ( 'Date', size = 15 )\n",
    "plt.ylabel ( 'Commit Count', size = 15 )\n",
    "\n",
    "for idx in range(len(first_lockdown_dates)):\n",
    "    plt.axvline( x=first_lockdown_dates[idx], color=vline_colors[idx], linestyle='dotted', linewidth=2, \n",
    "                label=f'First Covid Lockdown - {vline_labels[idx]}')\n",
    "\n",
    "# Get values for the trend line analysis\n",
    "x_dates = df['date']\n",
    "x_num = dates.date2num(x_dates)\n",
    "trend = np.polyfit(x_num, df['commit_count'], 1)\n",
    "fit = np.poly1d(trend)\n",
    "\n",
    "x_fit = np.linspace(x_num.min(), x_num.max())\n",
    "plt.plot(dates.num2date(x_fit), fit(x_fit), color='teal', linestyle='dashed', label='Trendline')\n",
    "plt.legend ( loc = 'best' )\n",
    "plt.show()"
   ]
  },
  {
   "cell_type": "code",
   "execution_count": null,
   "id": "6542ca06",
   "metadata": {},
   "outputs": [],
   "source": []
  }
 ],
 "metadata": {
  "kernelspec": {
   "display_name": "Python 3",
   "language": "python",
   "name": "python3"
  },
  "language_info": {
   "codemirror_mode": {
    "name": "ipython",
    "version": 3
   },
   "file_extension": ".py",
   "mimetype": "text/x-python",
   "name": "python",
   "nbconvert_exporter": "python",
   "pygments_lexer": "ipython3",
   "version": "3.8.8"
  }
 },
 "nbformat": 4,
 "nbformat_minor": 5
}
